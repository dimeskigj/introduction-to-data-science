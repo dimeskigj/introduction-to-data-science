{
 "cells": [
  {
   "cell_type": "code",
   "execution_count": 16,
   "metadata": {},
   "outputs": [],
   "source": [
    "import pandas as pd\n",
    "from xgboost import XGBRegressor\n",
    "from sklearn.metrics import mean_squared_error\n",
    "from math import sqrt"
   ]
  },
  {
   "cell_type": "code",
   "execution_count": 6,
   "metadata": {},
   "outputs": [],
   "source": [
    "X_test = pd.read_csv(\"../out/t_x_test.csv\")\n",
    "X_train = pd.read_csv(\"../out/t_x_train.csv\")\n",
    "y_test = pd.read_csv(\"../out/t_y_test.csv\")\n",
    "y_train = pd.read_csv(\"../out/t_y_train.csv\")"
   ]
  },
  {
   "cell_type": "code",
   "execution_count": 7,
   "metadata": {},
   "outputs": [],
   "source": [
    "max_depths = (1, 4, 8, 16, 32)\n",
    "learning_rates = (0.001, 0.01, 0.1)\n",
    "n_estimators = (10, 20, 40, 80, 160, 320, 640)"
   ]
  },
  {
   "cell_type": "code",
   "execution_count": 8,
   "metadata": {},
   "outputs": [],
   "source": [
    "max_depths_res = []\n",
    "learning_rates_res = []\n",
    "n_esimators_res = []\n",
    "score_res = []"
   ]
  },
  {
   "cell_type": "code",
   "execution_count": 9,
   "metadata": {},
   "outputs": [],
   "source": [
    "for m_d in max_depths:\n",
    "    for l_r in learning_rates:\n",
    "        for n_e in n_estimators:\n",
    "\n",
    "            model = XGBRegressor(n_estimators=n_e, max_depth=m_d, learning_rate=l_r)\n",
    "            model.fit(X_train, y_train)\n",
    "            y_pred = model.predict(X_test)\n",
    "            score = mean_squared_error(y_test, y_pred)\n",
    "            \n",
    "            max_depths_res.append(m_d)\n",
    "            learning_rates_res.append(l_r)\n",
    "            n_esimators_res.append(n_e)\n",
    "            score_res.append(score)"
   ]
  },
  {
   "cell_type": "code",
   "execution_count": 17,
   "metadata": {},
   "outputs": [],
   "source": [
    "score_res = [sqrt(s) for s in score_res]"
   ]
  },
  {
   "cell_type": "code",
   "execution_count": 18,
   "metadata": {},
   "outputs": [],
   "source": [
    "table = pd.DataFrame(\n",
    "    {\n",
    "        'score': score_res,\n",
    "        'max_depth': max_depths_res,\n",
    "        'learning_rate': learning_rates_res,\n",
    "        'n_estimators': n_esimators_res\n",
    "    }\n",
    ")"
   ]
  },
  {
   "cell_type": "code",
   "execution_count": 20,
   "metadata": {},
   "outputs": [
    {
     "data": {
      "text/html": [
       "<div>\n",
       "<style scoped>\n",
       "    .dataframe tbody tr th:only-of-type {\n",
       "        vertical-align: middle;\n",
       "    }\n",
       "\n",
       "    .dataframe tbody tr th {\n",
       "        vertical-align: top;\n",
       "    }\n",
       "\n",
       "    .dataframe thead th {\n",
       "        text-align: right;\n",
       "    }\n",
       "</style>\n",
       "<table border=\"1\" class=\"dataframe\">\n",
       "  <thead>\n",
       "    <tr style=\"text-align: right;\">\n",
       "      <th></th>\n",
       "      <th>score</th>\n",
       "      <th>max_depth</th>\n",
       "      <th>learning_rate</th>\n",
       "      <th>n_estimators</th>\n",
       "    </tr>\n",
       "  </thead>\n",
       "  <tbody>\n",
       "    <tr>\n",
       "      <th>20</th>\n",
       "      <td>25103.266976</td>\n",
       "      <td>1</td>\n",
       "      <td>0.10</td>\n",
       "      <td>640</td>\n",
       "    </tr>\n",
       "    <tr>\n",
       "      <th>55</th>\n",
       "      <td>26364.388164</td>\n",
       "      <td>8</td>\n",
       "      <td>0.01</td>\n",
       "      <td>640</td>\n",
       "    </tr>\n",
       "    <tr>\n",
       "      <th>19</th>\n",
       "      <td>26410.057882</td>\n",
       "      <td>1</td>\n",
       "      <td>0.10</td>\n",
       "      <td>320</td>\n",
       "    </tr>\n",
       "    <tr>\n",
       "      <th>40</th>\n",
       "      <td>26553.313873</td>\n",
       "      <td>4</td>\n",
       "      <td>0.10</td>\n",
       "      <td>320</td>\n",
       "    </tr>\n",
       "    <tr>\n",
       "      <th>41</th>\n",
       "      <td>26629.136182</td>\n",
       "      <td>4</td>\n",
       "      <td>0.10</td>\n",
       "      <td>640</td>\n",
       "    </tr>\n",
       "  </tbody>\n",
       "</table>\n",
       "</div>"
      ],
      "text/plain": [
       "           score  max_depth  learning_rate  n_estimators\n",
       "20  25103.266976          1           0.10           640\n",
       "55  26364.388164          8           0.01           640\n",
       "19  26410.057882          1           0.10           320\n",
       "40  26553.313873          4           0.10           320\n",
       "41  26629.136182          4           0.10           640"
      ]
     },
     "execution_count": 20,
     "metadata": {},
     "output_type": "execute_result"
    }
   ],
   "source": [
    "table.sort_values(by='score', ascending=True).head()"
   ]
  }
 ],
 "metadata": {
  "interpreter": {
   "hash": "1cd6c325993149ffcb4189c0199d7122bcedff4150f74c9734598389426a6d1f"
  },
  "kernelspec": {
   "display_name": "Python 3.9.4 64-bit",
   "language": "python",
   "name": "python3"
  },
  "language_info": {
   "codemirror_mode": {
    "name": "ipython",
    "version": 3
   },
   "file_extension": ".py",
   "mimetype": "text/x-python",
   "name": "python",
   "nbconvert_exporter": "python",
   "pygments_lexer": "ipython3",
   "version": "3.9.4"
  },
  "orig_nbformat": 4
 },
 "nbformat": 4,
 "nbformat_minor": 2
}
