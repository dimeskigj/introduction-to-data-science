{
  "nbformat": 4,
  "nbformat_minor": 0,
  "metadata": {
    "colab": {
      "name": "Models_Ana.ipynb",
      "provenance": []
    },
    "kernelspec": {
      "name": "python3",
      "display_name": "Python 3"
    },
    "language_info": {
      "name": "python"
    }
  },
  "cells": [
    {
      "cell_type": "code",
      "source": [
        "from google.colab import drive\n",
        "drive.mount('/content/drive')"
      ],
      "metadata": {
        "colab": {
          "base_uri": "https://localhost:8080/"
        },
        "id": "GdSi7VqfZyPb",
        "outputId": "ffa06edd-39fd-406f-9010-797e1bb8454e"
      },
      "execution_count": 1,
      "outputs": [
        {
          "output_type": "stream",
          "name": "stdout",
          "text": [
            "Mounted at /content/drive\n"
          ]
        }
      ]
    },
    {
      "cell_type": "code",
      "source": [
        "import pandas as pd"
      ],
      "metadata": {
        "id": "p9Jy2QDMajEU"
      },
      "execution_count": 2,
      "outputs": []
    },
    {
      "cell_type": "code",
      "source": [
        "no_outlier_t_x_train=pd.read_csv('/content/drive/MyDrive/VNP proekt/out/no_outlier_t_x_train.csv')"
      ],
      "metadata": {
        "id": "miBJFVUQakX7"
      },
      "execution_count": 3,
      "outputs": []
    },
    {
      "cell_type": "code",
      "source": [
        "no_outlier_t_x_test=pd.read_csv('/content/drive/MyDrive/VNP proekt/out/no_outlier_t_x_test.csv')"
      ],
      "metadata": {
        "id": "YIYI7DlTalH3"
      },
      "execution_count": 4,
      "outputs": []
    },
    {
      "cell_type": "code",
      "source": [
        "no_outlier_t_y_train=pd.read_csv('/content/drive/MyDrive/VNP proekt/out/no_outlier_t_y_train.csv')"
      ],
      "metadata": {
        "id": "KUv_1hjcapVj"
      },
      "execution_count": 5,
      "outputs": []
    },
    {
      "cell_type": "code",
      "source": [
        "no_outlier_t_y_test=pd.read_csv('/content/drive/MyDrive/VNP proekt/out/no_outlier_t_y_test.csv')"
      ],
      "metadata": {
        "id": "PH4OzEn5arao"
      },
      "execution_count": 6,
      "outputs": []
    },
    {
      "cell_type": "markdown",
      "source": [
        "Model 1 LinearRegression"
      ],
      "metadata": {
        "id": "bCTdOW-4c-cj"
      }
    },
    {
      "cell_type": "code",
      "source": [
        "from sklearn.linear_model import LinearRegression\n",
        "model1 = LinearRegression()\n",
        "model1.fit(no_outlier_t_x_train , no_outlier_t_y_train)\n",
        "predictions = model1.predict(no_outlier_t_x_test)"
      ],
      "metadata": {
        "id": "t3ouUq2oavGe"
      },
      "execution_count": 7,
      "outputs": []
    },
    {
      "cell_type": "code",
      "source": [
        "from sklearn import metrics\n",
        "from sklearn.metrics import mean_squared_error\n",
        "import numpy as np\n",
        "\n",
        "print('Root Mean Squared Error (RMSE):', np.sqrt(metrics.mean_squared_error(no_outlier_t_y_test, predictions)))"
      ],
      "metadata": {
        "colab": {
          "base_uri": "https://localhost:8080/"
        },
        "id": "74HD0Szsb9-i",
        "outputId": "85b8eb1f-e4b3-4406-d45d-20e6261f501e"
      },
      "execution_count": 8,
      "outputs": [
        {
          "output_type": "stream",
          "name": "stdout",
          "text": [
            "Root Mean Squared Error (RMSE): 141777222959900.3\n"
          ]
        }
      ]
    },
    {
      "cell_type": "markdown",
      "source": [
        "Model 2 Ridge"
      ],
      "metadata": {
        "id": "BizcvOVsdEEQ"
      }
    },
    {
      "cell_type": "code",
      "source": [
        "from sklearn.linear_model import Ridge\n",
        "\n",
        "model_ridge = Ridge()\n",
        "model_ridge.fit(no_outlier_t_x_train , no_outlier_t_y_train)\n",
        "ridge_predictions = model_ridge.predict(no_outlier_t_x_test)"
      ],
      "metadata": {
        "id": "tk74N0HJcrDF"
      },
      "execution_count": 10,
      "outputs": []
    },
    {
      "cell_type": "code",
      "source": [
        "print('Root Mean Squared Error (RMSE):', np.sqrt(metrics.mean_squared_error(no_outlier_t_y_test, ridge_predictions)))"
      ],
      "metadata": {
        "colab": {
          "base_uri": "https://localhost:8080/"
        },
        "id": "cyOlKbVrcywM",
        "outputId": "2598f293-1216-4b33-b916-62a464612527"
      },
      "execution_count": 11,
      "outputs": [
        {
          "output_type": "stream",
          "name": "stdout",
          "text": [
            "Root Mean Squared Error (RMSE): 23968.429126311625\n"
          ]
        }
      ]
    },
    {
      "cell_type": "code",
      "source": [
        "pred"
      ],
      "metadata": {
        "colab": {
          "base_uri": "https://localhost:8080/"
        },
        "id": "HNCvbxbUgICi",
        "outputId": "e84a32e3-482d-451e-856b-8172465cbfac"
      },
      "execution_count": 26,
      "outputs": [
        {
          "output_type": "execute_result",
          "data": {
            "text/plain": [
              "array([[134698.00992119],\n",
              "       [163442.61904005],\n",
              "       [181850.22178308],\n",
              "       ...,\n",
              "       [158741.11761986],\n",
              "       [107190.33053088],\n",
              "       [210625.03783072]])"
            ]
          },
          "metadata": {},
          "execution_count": 26
        }
      ]
    },
    {
      "cell_type": "code",
      "source": [
        "pred.shape"
      ],
      "metadata": {
        "colab": {
          "base_uri": "https://localhost:8080/"
        },
        "id": "PBQlrWvBhJfv",
        "outputId": "4268a94f-961a-4365-fd3d-d92299ff38f0"
      },
      "execution_count": 27,
      "outputs": [
        {
          "output_type": "execute_result",
          "data": {
            "text/plain": [
              "(1459, 1)"
            ]
          },
          "metadata": {},
          "execution_count": 27
        }
      ]
    },
    {
      "cell_type": "code",
      "source": [
        "from mmap import PROT_READ\n",
        "kaggle_test_X = pd.read_csv('/content/drive/MyDrive/VNP proekt/out/kaggle_test_X.csv', index_col='Id')\n",
        "\n",
        "pred = model_ridge.predict(kaggle_test_X)\n",
        "pred = np.reshape(pred, (pred.shape[0]))\n",
        "\n",
        "out = pd.DataFrame(\n",
        "    {\n",
        "        'Id': kaggle_test_X.index,\n",
        "        'SalePrice': pred\n",
        "    }\n",
        ")\n",
        "\n",
        "out.to_csv('/content/drive/MyDrive/VNP proekt/out/submission.csv', index=None)"
      ],
      "metadata": {
        "id": "3T0FW5JKd2pm"
      },
      "execution_count": 30,
      "outputs": []
    },
    {
      "cell_type": "code",
      "source": [
        "print(\"Score: 0.16333\")"
      ],
      "metadata": {
        "colab": {
          "base_uri": "https://localhost:8080/"
        },
        "id": "DLiNTCj4h-OQ",
        "outputId": "8ee6d825-562d-4dd2-ae30-efc0b671af01"
      },
      "execution_count": 31,
      "outputs": [
        {
          "output_type": "stream",
          "name": "stdout",
          "text": [
            "Score: 0.16333\n"
          ]
        }
      ]
    },
    {
      "cell_type": "markdown",
      "source": [
        "Model 3 DecisionTreeRegressor"
      ],
      "metadata": {
        "id": "CsRwxCzTdG9m"
      }
    },
    {
      "cell_type": "code",
      "source": [
        "from sklearn.tree import DecisionTreeRegressor\n",
        "\n",
        "model_DecisionTree = DecisionTreeRegressor()\n",
        "model_DecisionTree.fit(no_outlier_t_x_train , no_outlier_t_y_train)\n",
        "DecisionTree_predictions = model_DecisionTree.predict(no_outlier_t_x_test)"
      ],
      "metadata": {
        "id": "GCAPCPmEc9To"
      },
      "execution_count": 12,
      "outputs": []
    },
    {
      "cell_type": "code",
      "source": [
        "print('Root Mean Squared Error (RMSE):', np.sqrt(metrics.mean_squared_error(no_outlier_t_y_test, DecisionTree_predictions)))"
      ],
      "metadata": {
        "colab": {
          "base_uri": "https://localhost:8080/"
        },
        "id": "fGlNLP5jdMiH",
        "outputId": "6c05aee9-33cb-4812-877e-378b1c66bc71"
      },
      "execution_count": 13,
      "outputs": [
        {
          "output_type": "stream",
          "name": "stdout",
          "text": [
            "Root Mean Squared Error (RMSE): 37076.25295222912\n"
          ]
        }
      ]
    },
    {
      "cell_type": "markdown",
      "source": [
        "Model 4 RandomForestRegressor"
      ],
      "metadata": {
        "id": "IKB8qGAhdeKU"
      }
    },
    {
      "cell_type": "code",
      "source": [
        "from sklearn.ensemble import RandomForestRegressor\n",
        "\n",
        "model_RandomForest = RandomForestRegressor()\n",
        "model_RandomForest.fit(no_outlier_t_x_train , no_outlier_t_y_train)\n",
        "RandomForest_predictions = model_RandomForest.predict(no_outlier_t_x_test)"
      ],
      "metadata": {
        "colab": {
          "base_uri": "https://localhost:8080/"
        },
        "id": "7tTnd198ddfF",
        "outputId": "ef75e3f7-a6e8-435c-931e-d8089327b285"
      },
      "execution_count": 14,
      "outputs": [
        {
          "output_type": "stream",
          "name": "stderr",
          "text": [
            "/usr/local/lib/python3.7/dist-packages/ipykernel_launcher.py:4: DataConversionWarning: A column-vector y was passed when a 1d array was expected. Please change the shape of y to (n_samples,), for example using ravel().\n",
            "  after removing the cwd from sys.path.\n"
          ]
        }
      ]
    },
    {
      "cell_type": "code",
      "source": [
        "print('Root Mean Squared Error (RMSE):', np.sqrt(metrics.mean_squared_error(no_outlier_t_y_test, RandomForest_predictions)))"
      ],
      "metadata": {
        "colab": {
          "base_uri": "https://localhost:8080/"
        },
        "id": "gOhENQNMdmRR",
        "outputId": "f1411532-0ced-4825-b0f3-396bce8cfe9e"
      },
      "execution_count": 15,
      "outputs": [
        {
          "output_type": "stream",
          "name": "stdout",
          "text": [
            "Root Mean Squared Error (RMSE): 26106.81536878664\n"
          ]
        }
      ]
    },
    {
      "cell_type": "markdown",
      "source": [
        "Model 5 LGBMRegressor"
      ],
      "metadata": {
        "id": "O-kq_C8Eiqvf"
      }
    },
    {
      "cell_type": "code",
      "source": [
        "from lightgbm import LGBMRegressor\n",
        "\n",
        "lgbmr = LGBMRegressor(learning_rate=0.01, n_estimators=5000)\n",
        "lgbmr.fit(no_outlier_t_x_train, no_outlier_t_y_train)\n",
        "lgbmr_pred = lgbmr.predict(no_outlier_t_x_test)\n",
        "\n",
        "print('Root Mean Squared Error (RMSE):', np.sqrt(metrics.mean_squared_error(no_outlier_t_y_test, lgbmr_pred)))"
      ],
      "metadata": {
        "colab": {
          "base_uri": "https://localhost:8080/"
        },
        "id": "f_0-JDLMiqSR",
        "outputId": "70654b82-8e90-44f5-9e56-933738702f9f"
      },
      "execution_count": 33,
      "outputs": [
        {
          "output_type": "stream",
          "name": "stdout",
          "text": [
            "Root Mean Squared Error (RMSE): 25903.887836144866\n"
          ]
        }
      ]
    },
    {
      "cell_type": "code",
      "source": [
        "kaggle_test_X = pd.read_csv('/content/drive/MyDrive/VNP proekt/out/kaggle_test_X.csv', index_col='Id')\n",
        "\n",
        "pred = lgbmr.predict(kaggle_test_X)\n",
        "pred = np.reshape(pred, (pred.shape[0]))\n",
        "\n",
        "out = pd.DataFrame(\n",
        "    {\n",
        "        'Id': kaggle_test_X.index,\n",
        "        'SalePrice': pred\n",
        "    }\n",
        ")\n",
        "\n",
        "out.to_csv('/content/drive/MyDrive/VNP proekt/submission.csv', index=None)"
      ],
      "metadata": {
        "id": "4dGJk7ydjmkc"
      },
      "execution_count": 35,
      "outputs": []
    },
    {
      "cell_type": "code",
      "source": [
        "print(\"Score, position: 0.15476, 2743\")"
      ],
      "metadata": {
        "colab": {
          "base_uri": "https://localhost:8080/"
        },
        "id": "jV-C404NkYbf",
        "outputId": "0c44a7ae-74e9-42dc-e365-91c79bafd835"
      },
      "execution_count": 38,
      "outputs": [
        {
          "output_type": "stream",
          "name": "stdout",
          "text": [
            "Score, position: 0.15476, 2743\n"
          ]
        }
      ]
    }
  ]
}