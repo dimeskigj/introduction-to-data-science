{
  "cells": [
    {
      "cell_type": "code",
      "execution_count": null,
      "metadata": {
        "colab": {
          "base_uri": "https://localhost:8080/"
        },
        "id": "GdSi7VqfZyPb",
        "outputId": "ffa06edd-39fd-406f-9010-797e1bb8454e"
      },
      "outputs": [
        {
          "name": "stdout",
          "output_type": "stream",
          "text": [
            "Mounted at /content/drive\n"
          ]
        }
      ],
      "source": [
        "from google.colab import drive\n",
        "drive.mount('/content/drive')"
      ]
    },
    {
      "cell_type": "code",
      "execution_count": 7,
      "metadata": {
        "id": "p9Jy2QDMajEU"
      },
      "outputs": [],
      "source": [
        "import pandas as pd"
      ]
    },
    {
      "cell_type": "code",
      "execution_count": 8,
      "metadata": {
        "id": "miBJFVUQakX7"
      },
      "outputs": [],
      "source": [
        "no_outlier_t_x_train=pd.read_csv('/content/drive/MyDrive/VNP proekt/out/no_outlier_t_x_train.csv')"
      ]
    },
    {
      "cell_type": "code",
      "execution_count": 9,
      "metadata": {
        "id": "YIYI7DlTalH3"
      },
      "outputs": [],
      "source": [
        "no_outlier_t_x_test=pd.read_csv('/content/drive/MyDrive/VNP proekt/out/no_outlier_t_x_test.csv')"
      ]
    },
    {
      "cell_type": "code",
      "execution_count": 10,
      "metadata": {
        "id": "KUv_1hjcapVj"
      },
      "outputs": [],
      "source": [
        "no_outlier_t_y_train=pd.read_csv('/content/drive/MyDrive/VNP proekt/out/no_outlier_t_y_train.csv')"
      ]
    },
    {
      "cell_type": "code",
      "execution_count": 11,
      "metadata": {
        "id": "PH4OzEn5arao"
      },
      "outputs": [],
      "source": [
        "no_outlier_t_y_test=pd.read_csv('/content/drive/MyDrive/VNP proekt/out/no_outlier_t_y_test.csv')"
      ]
    },
    {
      "cell_type": "markdown",
      "metadata": {
        "id": "bCTdOW-4c-cj"
      },
      "source": [
        "### Model 1 LinearRegression"
      ]
    },
    {
      "cell_type": "code",
      "execution_count": 27,
      "metadata": {
        "id": "t3ouUq2oavGe"
      },
      "outputs": [],
      "source": [
        "from sklearn.linear_model import LinearRegression\n",
        "model1 = LinearRegression()\n",
        "model1.fit(no_outlier_t_x_train , no_outlier_t_y_train)\n",
        "predictions = model1.predict(no_outlier_t_x_test)"
      ]
    },
    {
      "cell_type": "code",
      "execution_count": 28,
      "metadata": {
        "colab": {
          "base_uri": "https://localhost:8080/"
        },
        "id": "74HD0Szsb9-i",
        "outputId": "2e80482c-587f-44f6-96fb-5b0efb3f515d"
      },
      "outputs": [
        {
          "name": "stdout",
          "output_type": "stream",
          "text": [
            "Root Mean Squared Error (RMSE): 141777222959900.3\n"
          ]
        }
      ],
      "source": [
        "from sklearn import metrics\n",
        "from sklearn.metrics import mean_squared_error\n",
        "import numpy as np\n",
        "\n",
        "print('Root Mean Squared Error (RMSE):', np.sqrt(metrics.mean_squared_error(no_outlier_t_y_test, predictions)))"
      ]
    },
    {
      "cell_type": "markdown",
      "metadata": {
        "id": "BizcvOVsdEEQ"
      },
      "source": [
        "### Model 2 Ridge"
      ]
    },
    {
      "cell_type": "code",
      "execution_count": null,
      "metadata": {
        "id": "tk74N0HJcrDF"
      },
      "outputs": [],
      "source": [
        "from sklearn.linear_model import Ridge\n",
        "\n",
        "model_ridge = Ridge()\n",
        "model_ridge.fit(no_outlier_t_x_train , no_outlier_t_y_train)\n",
        "ridge_predictions = model_ridge.predict(no_outlier_t_x_test)"
      ]
    },
    {
      "cell_type": "code",
      "execution_count": null,
      "metadata": {
        "colab": {
          "base_uri": "https://localhost:8080/"
        },
        "id": "cyOlKbVrcywM",
        "outputId": "2598f293-1216-4b33-b916-62a464612527"
      },
      "outputs": [
        {
          "name": "stdout",
          "output_type": "stream",
          "text": [
            "Root Mean Squared Error (RMSE): 23968.429126311625\n"
          ]
        }
      ],
      "source": [
        "print('Root Mean Squared Error (RMSE):', np.sqrt(metrics.mean_squared_error(no_outlier_t_y_test, ridge_predictions)))"
      ]
    },
    {
      "cell_type": "code",
      "execution_count": null,
      "metadata": {
        "id": "3T0FW5JKd2pm"
      },
      "outputs": [],
      "source": [
        "from mmap import PROT_READ\n",
        "kaggle_test_X = pd.read_csv('/content/drive/MyDrive/VNP proekt/out/kaggle_test_X.csv', index_col='Id')\n",
        "\n",
        "pred = model_ridge.predict(kaggle_test_X)\n",
        "pred = np.reshape(pred, (pred.shape[0]))\n",
        "\n",
        "out = pd.DataFrame(\n",
        "    {\n",
        "        'Id': kaggle_test_X.index,\n",
        "        'SalePrice': pred\n",
        "    }\n",
        ")\n",
        "\n",
        "out.to_csv('/content/drive/MyDrive/VNP proekt/out/submission.csv', index=None)"
      ]
    },
    {
      "cell_type": "code",
      "execution_count": null,
      "metadata": {
        "colab": {
          "base_uri": "https://localhost:8080/"
        },
        "id": "DLiNTCj4h-OQ",
        "outputId": "8ee6d825-562d-4dd2-ae30-efc0b671af01"
      },
      "outputs": [
        {
          "name": "stdout",
          "output_type": "stream",
          "text": [
            "Score: 0.16333\n"
          ]
        }
      ],
      "source": [
        "print(\"Score: 0.16333\")"
      ]
    },
    {
      "cell_type": "markdown",
      "metadata": {
        "id": "CsRwxCzTdG9m"
      },
      "source": [
        "### Model 3 DecisionTreeRegressor"
      ]
    },
    {
      "cell_type": "code",
      "execution_count": null,
      "metadata": {
        "id": "GCAPCPmEc9To"
      },
      "outputs": [],
      "source": [
        "from sklearn.tree import DecisionTreeRegressor\n",
        "\n",
        "model_DecisionTree = DecisionTreeRegressor()\n",
        "model_DecisionTree.fit(no_outlier_t_x_train , no_outlier_t_y_train)\n",
        "DecisionTree_predictions = model_DecisionTree.predict(no_outlier_t_x_test)"
      ]
    },
    {
      "cell_type": "code",
      "execution_count": null,
      "metadata": {
        "colab": {
          "base_uri": "https://localhost:8080/"
        },
        "id": "fGlNLP5jdMiH",
        "outputId": "6c05aee9-33cb-4812-877e-378b1c66bc71"
      },
      "outputs": [
        {
          "name": "stdout",
          "output_type": "stream",
          "text": [
            "Root Mean Squared Error (RMSE): 37076.25295222912\n"
          ]
        }
      ],
      "source": [
        "print('Root Mean Squared Error (RMSE):', np.sqrt(metrics.mean_squared_error(no_outlier_t_y_test, DecisionTree_predictions)))"
      ]
    },
    {
      "cell_type": "markdown",
      "metadata": {
        "id": "IKB8qGAhdeKU"
      },
      "source": [
        "### Model 4 RandomForestRegressor"
      ]
    },
    {
      "cell_type": "code",
      "execution_count": null,
      "metadata": {
        "colab": {
          "base_uri": "https://localhost:8080/"
        },
        "id": "7tTnd198ddfF",
        "outputId": "ef75e3f7-a6e8-435c-931e-d8089327b285"
      },
      "outputs": [
        {
          "name": "stderr",
          "output_type": "stream",
          "text": [
            "/usr/local/lib/python3.7/dist-packages/ipykernel_launcher.py:4: DataConversionWarning: A column-vector y was passed when a 1d array was expected. Please change the shape of y to (n_samples,), for example using ravel().\n",
            "  after removing the cwd from sys.path.\n"
          ]
        }
      ],
      "source": [
        "from sklearn.ensemble import RandomForestRegressor\n",
        "\n",
        "model_RandomForest = RandomForestRegressor()\n",
        "model_RandomForest.fit(no_outlier_t_x_train , no_outlier_t_y_train)\n",
        "RandomForest_predictions = model_RandomForest.predict(no_outlier_t_x_test)"
      ]
    },
    {
      "cell_type": "code",
      "execution_count": null,
      "metadata": {
        "colab": {
          "base_uri": "https://localhost:8080/"
        },
        "id": "gOhENQNMdmRR",
        "outputId": "f1411532-0ced-4825-b0f3-396bce8cfe9e"
      },
      "outputs": [
        {
          "name": "stdout",
          "output_type": "stream",
          "text": [
            "Root Mean Squared Error (RMSE): 26106.81536878664\n"
          ]
        }
      ],
      "source": [
        "print('Root Mean Squared Error (RMSE):', np.sqrt(metrics.mean_squared_error(no_outlier_t_y_test, RandomForest_predictions)))"
      ]
    },
    {
      "cell_type": "markdown",
      "metadata": {
        "id": "O-kq_C8Eiqvf"
      },
      "source": [
        "### Model 5 LGBMRegressor"
      ]
    },
    {
      "cell_type": "code",
      "execution_count": null,
      "metadata": {
        "colab": {
          "base_uri": "https://localhost:8080/"
        },
        "id": "f_0-JDLMiqSR",
        "outputId": "70654b82-8e90-44f5-9e56-933738702f9f"
      },
      "outputs": [
        {
          "name": "stdout",
          "output_type": "stream",
          "text": [
            "Root Mean Squared Error (RMSE): 25903.887836144866\n"
          ]
        }
      ],
      "source": [
        "from lightgbm import LGBMRegressor\n",
        "\n",
        "lgbmr = LGBMRegressor(learning_rate=0.01, n_estimators=5000)\n",
        "lgbmr.fit(no_outlier_t_x_train, no_outlier_t_y_train)\n",
        "lgbmr_pred = lgbmr.predict(no_outlier_t_x_test)\n",
        "\n",
        "print('Root Mean Squared Error (RMSE):', np.sqrt(metrics.mean_squared_error(no_outlier_t_y_test, lgbmr_pred)))"
      ]
    },
    {
      "cell_type": "code",
      "execution_count": null,
      "metadata": {
        "id": "4dGJk7ydjmkc"
      },
      "outputs": [],
      "source": [
        "kaggle_test_X = pd.read_csv('/content/drive/MyDrive/VNP proekt/out/kaggle_test_X.csv', index_col='Id')\n",
        "\n",
        "pred = lgbmr.predict(kaggle_test_X)\n",
        "pred = np.reshape(pred, (pred.shape[0]))\n",
        "\n",
        "out = pd.DataFrame(\n",
        "    {\n",
        "        'Id': kaggle_test_X.index,\n",
        "        'SalePrice': pred\n",
        "    }\n",
        ")\n",
        "\n",
        "out.to_csv('/content/drive/MyDrive/VNP proekt/submission.csv', index=None)"
      ]
    },
    {
      "cell_type": "code",
      "execution_count": null,
      "metadata": {
        "colab": {
          "base_uri": "https://localhost:8080/"
        },
        "id": "jV-C404NkYbf",
        "outputId": "0c44a7ae-74e9-42dc-e365-91c79bafd835"
      },
      "outputs": [
        {
          "name": "stdout",
          "output_type": "stream",
          "text": [
            "Score, position: 0.15476, 2743\n"
          ]
        }
      ],
      "source": [
        "print(\"Score, position: 0.15476, 2743\")"
      ]
    },
    {
      "cell_type": "code",
      "execution_count": 12,
      "metadata": {
        "id": "FJTBZZ-omHZG"
      },
      "outputs": [],
      "source": [
        "t_x_train=pd.read_csv('/content/drive/MyDrive/VNP proekt/out/t_x_train.csv')"
      ]
    },
    {
      "cell_type": "code",
      "execution_count": 13,
      "metadata": {
        "id": "5tg2Jf25mJsA"
      },
      "outputs": [],
      "source": [
        "t_x_test=pd.read_csv('/content/drive/MyDrive/VNP proekt/out/t_x_test.csv')"
      ]
    },
    {
      "cell_type": "code",
      "execution_count": 14,
      "metadata": {
        "id": "cvIoY1aSmLqQ"
      },
      "outputs": [],
      "source": [
        "t_y_train=pd.read_csv('/content/drive/MyDrive/VNP proekt/out/t_y_train.csv')"
      ]
    },
    {
      "cell_type": "code",
      "execution_count": 15,
      "metadata": {
        "id": "ALJV3Cw2mNcF"
      },
      "outputs": [],
      "source": [
        "t_y_test=pd.read_csv('/content/drive/MyDrive/VNP proekt/out/t_y_test.csv')"
      ]
    },
    {
      "cell_type": "code",
      "execution_count": null,
      "metadata": {
        "colab": {
          "base_uri": "https://localhost:8080/"
        },
        "id": "DaTNN_mYmRLH",
        "outputId": "591bb380-c0c9-4d2a-b5c7-a56a5008ff84"
      },
      "outputs": [
        {
          "name": "stdout",
          "output_type": "stream",
          "text": [
            "Root Mean Squared Error (RMSE): 25596.232332936914\n"
          ]
        }
      ],
      "source": [
        "from lightgbm import LGBMRegressor\n",
        "\n",
        "lgbmr2 = LGBMRegressor(learning_rate=0.01, n_estimators=5000)\n",
        "lgbmr2.fit(t_x_train, t_y_train)\n",
        "lgbmr_pred = lgbmr2.predict(t_x_test)\n",
        "\n",
        "print('Root Mean Squared Error (RMSE):', np.sqrt(metrics.mean_squared_error(t_y_test, lgbmr_pred)))"
      ]
    },
    {
      "cell_type": "code",
      "execution_count": null,
      "metadata": {
        "id": "gC4FHmLqmc-J"
      },
      "outputs": [],
      "source": [
        "kaggle_test_X = pd.read_csv('/content/drive/MyDrive/VNP proekt/out/kaggle_test_X.csv', index_col='Id')\n",
        "\n",
        "pred = lgbmr2.predict(kaggle_test_X)\n",
        "pred = np.reshape(pred, (pred.shape[0]))\n",
        "\n",
        "out = pd.DataFrame(\n",
        "    {\n",
        "        'Id': kaggle_test_X.index,\n",
        "        'SalePrice': pred\n",
        "    }\n",
        ")\n",
        "\n",
        "out.to_csv('/content/drive/MyDrive/VNP proekt/submission.csv', index=None)"
      ]
    },
    {
      "cell_type": "code",
      "execution_count": null,
      "metadata": {
        "colab": {
          "base_uri": "https://localhost:8080/"
        },
        "id": "YBaNjh4OnD6g",
        "outputId": "f4fad04a-39f1-4709-f645-59451be90730"
      },
      "outputs": [
        {
          "name": "stdout",
          "output_type": "stream",
          "text": [
            "Score, position: 0.13605, 1470\n"
          ]
        }
      ],
      "source": [
        "print(\"Score, position: 0.13605, 1470\")"
      ]
    },
    {
      "cell_type": "markdown",
      "metadata": {
        "id": "iKDO990W5kXO"
      },
      "source": [
        "### Model 6 ElasticNet"
      ]
    },
    {
      "cell_type": "code",
      "execution_count": 29,
      "metadata": {
        "colab": {
          "base_uri": "https://localhost:8080/"
        },
        "id": "5d-Y_ZmN5pXv",
        "outputId": "f635f552-e72d-4e46-88ba-eda3eb198615"
      },
      "outputs": [
        {
          "name": "stdout",
          "output_type": "stream",
          "text": [
            "RMSE score : 26475.50283837328\n"
          ]
        }
      ],
      "source": [
        "from sklearn.linear_model import ElasticNet\n",
        "\n",
        "elasticnet = ElasticNet(alpha=0.01, l1_ratio=0.5, random_state=42)\n",
        "elasticnet.fit(t_x_train, t_y_train)\n",
        "pred = elasticnet.predict(t_x_test)\n",
        "\n",
        "print(\"RMSE score : {}\".format(mean_squared_error(t_y_test, pred, squared=False)))"
      ]
    },
    {
      "cell_type": "code",
      "execution_count": 30,
      "metadata": {
        "id": "mkZozNt37eZN"
      },
      "outputs": [],
      "source": [
        "kaggle_test_X = pd.read_csv('/content/drive/MyDrive/VNP proekt/out/kaggle_test_X.csv', index_col='Id')\n",
        "\n",
        "pred = elasticnet.predict(kaggle_test_X)\n",
        "pred = np.reshape(pred, (pred.shape[0]))\n",
        "\n",
        "out = pd.DataFrame(\n",
        "    {\n",
        "        'Id': kaggle_test_X.index,\n",
        "        'SalePrice': pred\n",
        "    }\n",
        ")\n",
        "\n",
        "out.to_csv('/content/drive/MyDrive/VNP proekt/out/submission.csv', index=None)"
      ]
    },
    {
      "cell_type": "code",
      "execution_count": 31,
      "metadata": {
        "colab": {
          "base_uri": "https://localhost:8080/"
        },
        "id": "z_tI_m4S8Y9O",
        "outputId": "fc837551-fd02-4ceb-9bd6-b65b5fe8baf7"
      },
      "outputs": [
        {
          "name": "stdout",
          "output_type": "stream",
          "text": [
            "Score: 0.15820\n"
          ]
        }
      ],
      "source": [
        "print(\"Score: 0.15820\")"
      ]
    },
    {
      "cell_type": "markdown",
      "metadata": {
        "id": "1LZUxOQaU-MF"
      },
      "source": [
        "### Neural network"
      ]
    },
    {
      "cell_type": "code",
      "execution_count": 37,
      "metadata": {
        "colab": {
          "base_uri": "https://localhost:8080/"
        },
        "id": "nNJTSWHzVAWF",
        "outputId": "cc601210-760f-4580-dc00-b841c24341d0"
      },
      "outputs": [
        {
          "name": "stdout",
          "output_type": "stream",
          "text": [
            "Epoch 1/100\n",
            "117/117 [==============================] - 1s 3ms/step - loss: 38502858752.0000\n",
            "Epoch 2/100\n",
            "117/117 [==============================] - 0s 3ms/step - loss: 9252661248.0000\n",
            "Epoch 3/100\n",
            "117/117 [==============================] - 0s 3ms/step - loss: 1655560832.0000\n",
            "Epoch 4/100\n",
            "117/117 [==============================] - 0s 3ms/step - loss: 1438812416.0000\n",
            "Epoch 5/100\n",
            "117/117 [==============================] - 0s 3ms/step - loss: 1305678464.0000\n",
            "Epoch 6/100\n",
            "117/117 [==============================] - 1s 7ms/step - loss: 1200265600.0000\n",
            "Epoch 7/100\n",
            "117/117 [==============================] - 1s 5ms/step - loss: 1163411968.0000\n",
            "Epoch 8/100\n",
            "117/117 [==============================] - 1s 4ms/step - loss: 1100194176.0000\n",
            "Epoch 9/100\n",
            "117/117 [==============================] - 1s 6ms/step - loss: 1055369280.0000\n",
            "Epoch 10/100\n",
            "117/117 [==============================] - 1s 5ms/step - loss: 1074928896.0000\n",
            "Epoch 11/100\n",
            "117/117 [==============================] - 1s 7ms/step - loss: 1005737664.0000\n",
            "Epoch 12/100\n",
            "117/117 [==============================] - 1s 5ms/step - loss: 979603264.0000\n",
            "Epoch 13/100\n",
            "117/117 [==============================] - 1s 6ms/step - loss: 984654208.0000\n",
            "Epoch 14/100\n",
            "117/117 [==============================] - 1s 5ms/step - loss: 935064448.0000\n",
            "Epoch 15/100\n",
            "117/117 [==============================] - 1s 5ms/step - loss: 922348288.0000\n",
            "Epoch 16/100\n",
            "117/117 [==============================] - 1s 7ms/step - loss: 899855168.0000\n",
            "Epoch 17/100\n",
            "117/117 [==============================] - 1s 4ms/step - loss: 917200512.0000\n",
            "Epoch 18/100\n",
            "117/117 [==============================] - 0s 3ms/step - loss: 866521792.0000\n",
            "Epoch 19/100\n",
            "117/117 [==============================] - 0s 3ms/step - loss: 866024640.0000\n",
            "Epoch 20/100\n",
            "117/117 [==============================] - 0s 2ms/step - loss: 844258048.0000\n",
            "Epoch 21/100\n",
            "117/117 [==============================] - 0s 2ms/step - loss: 840144512.0000\n",
            "Epoch 22/100\n",
            "117/117 [==============================] - 0s 3ms/step - loss: 804867008.0000\n",
            "Epoch 23/100\n",
            "117/117 [==============================] - 0s 2ms/step - loss: 823221632.0000\n",
            "Epoch 24/100\n",
            "117/117 [==============================] - 0s 3ms/step - loss: 810306048.0000\n",
            "Epoch 25/100\n",
            "117/117 [==============================] - 0s 2ms/step - loss: 799808192.0000\n",
            "Epoch 26/100\n",
            "117/117 [==============================] - 0s 2ms/step - loss: 785616064.0000\n",
            "Epoch 27/100\n",
            "117/117 [==============================] - 0s 2ms/step - loss: 806811648.0000\n",
            "Epoch 28/100\n",
            "117/117 [==============================] - 0s 2ms/step - loss: 791457152.0000\n",
            "Epoch 29/100\n",
            "117/117 [==============================] - 1s 7ms/step - loss: 770785088.0000\n",
            "Epoch 30/100\n",
            "117/117 [==============================] - 0s 4ms/step - loss: 764241216.0000\n",
            "Epoch 31/100\n",
            "117/117 [==============================] - 0s 2ms/step - loss: 740489920.0000\n",
            "Epoch 32/100\n",
            "117/117 [==============================] - 0s 3ms/step - loss: 756177984.0000\n",
            "Epoch 33/100\n",
            "117/117 [==============================] - 0s 3ms/step - loss: 745130240.0000\n",
            "Epoch 34/100\n",
            "117/117 [==============================] - 0s 2ms/step - loss: 738875840.0000\n",
            "Epoch 35/100\n",
            "117/117 [==============================] - 0s 2ms/step - loss: 742775040.0000\n",
            "Epoch 36/100\n",
            "117/117 [==============================] - 0s 2ms/step - loss: 733670464.0000\n",
            "Epoch 37/100\n",
            "117/117 [==============================] - 0s 3ms/step - loss: 738413568.0000\n",
            "Epoch 38/100\n",
            "117/117 [==============================] - 0s 2ms/step - loss: 693681856.0000\n",
            "Epoch 39/100\n",
            "117/117 [==============================] - 0s 3ms/step - loss: 712259712.0000\n",
            "Epoch 40/100\n",
            "117/117 [==============================] - 0s 2ms/step - loss: 699038208.0000\n",
            "Epoch 41/100\n",
            "117/117 [==============================] - 0s 2ms/step - loss: 698764672.0000\n",
            "Epoch 42/100\n",
            "117/117 [==============================] - 0s 2ms/step - loss: 696530368.0000\n",
            "Epoch 43/100\n",
            "117/117 [==============================] - 0s 3ms/step - loss: 701820416.0000\n",
            "Epoch 44/100\n",
            "117/117 [==============================] - 0s 2ms/step - loss: 667638400.0000\n",
            "Epoch 45/100\n",
            "117/117 [==============================] - 0s 2ms/step - loss: 681515072.0000\n",
            "Epoch 46/100\n",
            "117/117 [==============================] - 0s 3ms/step - loss: 663641344.0000\n",
            "Epoch 47/100\n",
            "117/117 [==============================] - 0s 3ms/step - loss: 655005760.0000\n",
            "Epoch 48/100\n",
            "117/117 [==============================] - 0s 2ms/step - loss: 655386816.0000\n",
            "Epoch 49/100\n",
            "117/117 [==============================] - 0s 2ms/step - loss: 664655232.0000\n",
            "Epoch 50/100\n",
            "117/117 [==============================] - 0s 3ms/step - loss: 647010560.0000\n",
            "Epoch 51/100\n",
            "117/117 [==============================] - 0s 2ms/step - loss: 643997120.0000\n",
            "Epoch 52/100\n",
            "117/117 [==============================] - 0s 3ms/step - loss: 644313088.0000\n",
            "Epoch 53/100\n",
            "117/117 [==============================] - 0s 2ms/step - loss: 634539328.0000\n",
            "Epoch 54/100\n",
            "117/117 [==============================] - 0s 2ms/step - loss: 629557632.0000\n",
            "Epoch 55/100\n",
            "117/117 [==============================] - 0s 2ms/step - loss: 623027392.0000\n",
            "Epoch 56/100\n",
            "117/117 [==============================] - 0s 2ms/step - loss: 614464128.0000\n",
            "Epoch 57/100\n",
            "117/117 [==============================] - 0s 3ms/step - loss: 625260608.0000\n",
            "Epoch 58/100\n",
            "117/117 [==============================] - 0s 2ms/step - loss: 611048960.0000\n",
            "Epoch 59/100\n",
            "117/117 [==============================] - 0s 2ms/step - loss: 610571648.0000\n",
            "Epoch 60/100\n",
            "117/117 [==============================] - 0s 3ms/step - loss: 612419904.0000\n",
            "Epoch 61/100\n",
            "117/117 [==============================] - 0s 3ms/step - loss: 594950336.0000\n",
            "Epoch 62/100\n",
            "117/117 [==============================] - 0s 2ms/step - loss: 600017408.0000\n",
            "Epoch 63/100\n",
            "117/117 [==============================] - 0s 3ms/step - loss: 584996544.0000\n",
            "Epoch 64/100\n",
            "117/117 [==============================] - 0s 2ms/step - loss: 586225344.0000\n",
            "Epoch 65/100\n",
            "117/117 [==============================] - 0s 2ms/step - loss: 587214016.0000\n",
            "Epoch 66/100\n",
            "117/117 [==============================] - 0s 2ms/step - loss: 560828736.0000\n",
            "Epoch 67/100\n",
            "117/117 [==============================] - 0s 3ms/step - loss: 584429824.0000\n",
            "Epoch 68/100\n",
            "117/117 [==============================] - 0s 2ms/step - loss: 591675008.0000\n",
            "Epoch 69/100\n",
            "117/117 [==============================] - 0s 2ms/step - loss: 555203712.0000\n",
            "Epoch 70/100\n",
            "117/117 [==============================] - 0s 2ms/step - loss: 550345792.0000\n",
            "Epoch 71/100\n",
            "117/117 [==============================] - 0s 2ms/step - loss: 555882752.0000\n",
            "Epoch 72/100\n",
            "117/117 [==============================] - 0s 2ms/step - loss: 547429952.0000\n",
            "Epoch 73/100\n",
            "117/117 [==============================] - 0s 2ms/step - loss: 539932608.0000\n",
            "Epoch 74/100\n",
            "117/117 [==============================] - 0s 3ms/step - loss: 562711616.0000\n",
            "Epoch 75/100\n",
            "117/117 [==============================] - 0s 2ms/step - loss: 540976640.0000\n",
            "Epoch 76/100\n",
            "117/117 [==============================] - 0s 2ms/step - loss: 527048160.0000\n",
            "Epoch 77/100\n",
            "117/117 [==============================] - 0s 3ms/step - loss: 530440640.0000\n",
            "Epoch 78/100\n",
            "117/117 [==============================] - 0s 3ms/step - loss: 506115552.0000\n",
            "Epoch 79/100\n",
            "117/117 [==============================] - 0s 2ms/step - loss: 502068416.0000\n",
            "Epoch 80/100\n",
            "117/117 [==============================] - 0s 2ms/step - loss: 500017728.0000\n",
            "Epoch 81/100\n",
            "117/117 [==============================] - 0s 2ms/step - loss: 500285536.0000\n",
            "Epoch 82/100\n",
            "117/117 [==============================] - 0s 2ms/step - loss: 498002208.0000\n",
            "Epoch 83/100\n",
            "117/117 [==============================] - 0s 2ms/step - loss: 486986432.0000\n",
            "Epoch 84/100\n",
            "117/117 [==============================] - 0s 3ms/step - loss: 488424320.0000\n",
            "Epoch 85/100\n",
            "117/117 [==============================] - 0s 2ms/step - loss: 471387040.0000\n",
            "Epoch 86/100\n",
            "117/117 [==============================] - 0s 2ms/step - loss: 478945056.0000\n",
            "Epoch 87/100\n",
            "117/117 [==============================] - 0s 2ms/step - loss: 472374944.0000\n",
            "Epoch 88/100\n",
            "117/117 [==============================] - 0s 3ms/step - loss: 454857216.0000\n",
            "Epoch 89/100\n",
            "117/117 [==============================] - 0s 2ms/step - loss: 449591520.0000\n",
            "Epoch 90/100\n",
            "117/117 [==============================] - 0s 2ms/step - loss: 438879328.0000\n",
            "Epoch 91/100\n",
            "117/117 [==============================] - 0s 3ms/step - loss: 438133504.0000\n",
            "Epoch 92/100\n",
            "117/117 [==============================] - 0s 2ms/step - loss: 428765792.0000\n",
            "Epoch 93/100\n",
            "117/117 [==============================] - 0s 2ms/step - loss: 432663744.0000\n",
            "Epoch 94/100\n",
            "117/117 [==============================] - 0s 3ms/step - loss: 425752000.0000\n",
            "Epoch 95/100\n",
            "117/117 [==============================] - 0s 2ms/step - loss: 407615200.0000\n",
            "Epoch 96/100\n",
            "117/117 [==============================] - 0s 3ms/step - loss: 408496928.0000\n",
            "Epoch 97/100\n",
            "117/117 [==============================] - 0s 3ms/step - loss: 417325440.0000\n",
            "Epoch 98/100\n",
            "117/117 [==============================] - 0s 3ms/step - loss: 391368160.0000\n",
            "Epoch 99/100\n",
            "117/117 [==============================] - 0s 2ms/step - loss: 402389920.0000\n",
            "Epoch 100/100\n",
            "117/117 [==============================] - 0s 2ms/step - loss: 381230816.0000\n"
          ]
        },
        {
          "data": {
            "text/plain": [
              "<keras.callbacks.History at 0x7fbeb5f86590>"
            ]
          },
          "execution_count": 37,
          "metadata": {},
          "output_type": "execute_result"
        }
      ],
      "source": [
        "import numpy as np\n",
        "import keras\n",
        "from keras.models import Sequential\n",
        "from keras.layers import Dense\n",
        "from keras.wrappers.scikit_learn import KerasRegressor\n",
        "\n",
        "seed = 7\n",
        "np.random.seed(seed)\n",
        "\n",
        "# Model\n",
        "model = Sequential()\n",
        "model.add(Dense(200, input_dim=270, kernel_initializer='normal', activation='relu'))\n",
        "model.add(Dense(100, kernel_initializer='normal', activation='relu'))\n",
        "model.add(Dense(50, kernel_initializer='normal', activation='relu'))\n",
        "model.add(Dense(25, kernel_initializer='normal', activation='relu'))\n",
        "model.add(Dense(1, kernel_initializer='normal'))\n",
        "# Compile model\n",
        "model.compile(loss='mean_squared_error', optimizer='adam')\n",
        "\n",
        "model.fit(t_x_train, t_y_train, epochs=100, batch_size=10)"
      ]
    },
    {
      "cell_type": "code",
      "execution_count": 38,
      "metadata": {
        "id": "MQPcSqiEVsva"
      },
      "outputs": [],
      "source": [
        "y_pred = model.predict(t_x_test)"
      ]
    },
    {
      "cell_type": "code",
      "execution_count": 39,
      "metadata": {
        "colab": {
          "base_uri": "https://localhost:8080/"
        },
        "id": "G_csQPUZW-za",
        "outputId": "9e90e39e-d828-4947-daa9-3841207237d9"
      },
      "outputs": [
        {
          "name": "stdout",
          "output_type": "stream",
          "text": [
            "RMSE score : 28353.178467741596\n"
          ]
        }
      ],
      "source": [
        "\n",
        "print(\"RMSE score : {}\".format(mean_squared_error(t_y_test, y_pred, squared=False)))"
      ]
    },
    {
      "cell_type": "code",
      "execution_count": 40,
      "metadata": {
        "id": "Ver7E1t7XJk9"
      },
      "outputs": [],
      "source": [
        "kaggle_test_X = pd.read_csv('/content/drive/MyDrive/VNP proekt/out/kaggle_test_X.csv', index_col='Id')\n",
        "\n",
        "pred = model.predict(kaggle_test_X)\n",
        "pred = np.reshape(pred, (pred.shape[0]))\n",
        "\n",
        "out = pd.DataFrame(\n",
        "    {\n",
        "        'Id': kaggle_test_X.index,\n",
        "        'SalePrice': pred\n",
        "    }\n",
        ")\n",
        "\n",
        "out.to_csv('/content/drive/MyDrive/VNP proekt/out/submission.csv', index=None)"
      ]
    },
    {
      "cell_type": "code",
      "execution_count": 41,
      "metadata": {
        "colab": {
          "base_uri": "https://localhost:8080/"
        },
        "id": "KuaB_brtXijY",
        "outputId": "dbd7eaff-7ab6-483c-dd28-27643e9a799a"
      },
      "outputs": [
        {
          "name": "stdout",
          "output_type": "stream",
          "text": [
            "Score: 0.14205\n"
          ]
        }
      ],
      "source": [
        "print(\"Score: 0.14205\")"
      ]
    },
    {
      "cell_type": "markdown",
      "metadata": {
        "id": "nkYStp-JYLkH"
      },
      "source": [
        "### Neural Network 2"
      ]
    },
    {
      "cell_type": "code",
      "execution_count": 42,
      "metadata": {
        "colab": {
          "base_uri": "https://localhost:8080/"
        },
        "id": "Gyz06UkSYklS",
        "outputId": "04cebe30-7ebf-4f8c-b9bc-c07a413cec51"
      },
      "outputs": [
        {
          "data": {
            "text/plain": [
              "270"
            ]
          },
          "execution_count": 42,
          "metadata": {},
          "output_type": "execute_result"
        }
      ],
      "source": [
        "t_x_train.shape[1]"
      ]
    },
    {
      "cell_type": "code",
      "execution_count": 44,
      "metadata": {
        "id": "aCgv4qDIYOHl"
      },
      "outputs": [],
      "source": [
        "model = Sequential()\n",
        "model.add(Dense(10, input_dim=t_x_train.shape[1], activation='relu'))\n",
        "model.add(Dense(30, activation='relu'))\n",
        "model.add(Dense(40, activation='relu'))\n",
        "model.add(Dense(1))\n",
        "# Compile model\n",
        "model.compile(optimizer ='adam', loss = 'mean_squared_error', metrics =\"mae\")"
      ]
    },
    {
      "cell_type": "code",
      "execution_count": 45,
      "metadata": {
        "colab": {
          "base_uri": "https://localhost:8080/"
        },
        "id": "qRCsbOz-YYKy",
        "outputId": "a08ffec7-4a2a-48a3-958c-ba738482e5ba"
      },
      "outputs": [
        {
          "name": "stdout",
          "output_type": "stream",
          "text": [
            "Epoch 1/150\n",
            "37/37 [==============================] - 1s 9ms/step - loss: 39372562432.0000 - mae: 181675.9375 - val_loss: 37740388352.0000 - val_mae: 177940.0000\n",
            "Epoch 2/150\n",
            "37/37 [==============================] - 0s 3ms/step - loss: 39365840896.0000 - mae: 181659.3438 - val_loss: 37725241344.0000 - val_mae: 177901.7812\n",
            "Epoch 3/150\n",
            "37/37 [==============================] - 0s 3ms/step - loss: 39327621120.0000 - mae: 181562.6250 - val_loss: 37651787776.0000 - val_mae: 177713.0156\n",
            "Epoch 4/150\n",
            "37/37 [==============================] - 0s 3ms/step - loss: 39180857344.0000 - mae: 181189.8750 - val_loss: 37411168256.0000 - val_mae: 177091.8281\n",
            "Epoch 5/150\n",
            "37/37 [==============================] - 0s 3ms/step - loss: 38777524224.0000 - mae: 180156.4062 - val_loss: 36819509248.0000 - val_mae: 175557.2812\n",
            "Epoch 6/150\n",
            "37/37 [==============================] - 0s 3ms/step - loss: 37877043200.0000 - mae: 177864.4062 - val_loss: 35617353728.0000 - val_mae: 172404.5469\n",
            "Epoch 7/150\n",
            "37/37 [==============================] - 0s 3ms/step - loss: 36206596096.0000 - mae: 173496.8906 - val_loss: 33523398656.0000 - val_mae: 166784.9688\n",
            "Epoch 8/150\n",
            "37/37 [==============================] - 0s 3ms/step - loss: 33493544960.0000 - mae: 166173.7500 - val_loss: 30317277184.0000 - val_mae: 157800.8281\n",
            "Epoch 9/150\n",
            "37/37 [==============================] - 0s 3ms/step - loss: 29532336128.0000 - mae: 154871.3281 - val_loss: 25819779072.0000 - val_mae: 144316.6719\n",
            "Epoch 10/150\n",
            "37/37 [==============================] - 0s 3ms/step - loss: 24283312128.0000 - mae: 138581.2500 - val_loss: 20236685312.0000 - val_mae: 125689.0312\n",
            "Epoch 11/150\n",
            "37/37 [==============================] - 0s 6ms/step - loss: 18242457600.0000 - mae: 117051.6094 - val_loss: 14183306240.0000 - val_mae: 101981.7969\n",
            "Epoch 12/150\n",
            "37/37 [==============================] - 0s 13ms/step - loss: 12191275008.0000 - mae: 91171.9688 - val_loss: 8783001600.0000 - val_mae: 75430.5781\n",
            "Epoch 13/150\n",
            "37/37 [==============================] - 0s 7ms/step - loss: 7227478016.0000 - mae: 64319.0195 - val_loss: 4891936768.0000 - val_mae: 49865.6250\n",
            "Epoch 14/150\n",
            "37/37 [==============================] - 0s 3ms/step - loss: 4101750784.0000 - mae: 40771.3203 - val_loss: 2761388800.0000 - val_mae: 31199.2910\n",
            "Epoch 15/150\n",
            "37/37 [==============================] - 0s 4ms/step - loss: 2629013760.0000 - mae: 28450.7461 - val_loss: 1950277504.0000 - val_mae: 25685.9121\n",
            "Epoch 16/150\n",
            "37/37 [==============================] - 0s 4ms/step - loss: 2118794240.0000 - mae: 26671.4766 - val_loss: 1671298688.0000 - val_mae: 25515.4902\n",
            "Epoch 17/150\n",
            "37/37 [==============================] - 0s 3ms/step - loss: 1934485888.0000 - mae: 26611.6562 - val_loss: 1547811584.0000 - val_mae: 25530.0781\n",
            "Epoch 18/150\n",
            "37/37 [==============================] - 0s 3ms/step - loss: 1831062784.0000 - mae: 26279.4434 - val_loss: 1476330112.0000 - val_mae: 25114.4219\n",
            "Epoch 19/150\n",
            "37/37 [==============================] - 0s 3ms/step - loss: 1761623936.0000 - mae: 25844.4414 - val_loss: 1414107648.0000 - val_mae: 24816.6484\n",
            "Epoch 20/150\n",
            "37/37 [==============================] - 0s 4ms/step - loss: 1700967424.0000 - mae: 25344.1934 - val_loss: 1365061888.0000 - val_mae: 24487.1953\n",
            "Epoch 21/150\n",
            "37/37 [==============================] - 0s 3ms/step - loss: 1656005120.0000 - mae: 24925.7266 - val_loss: 1320735616.0000 - val_mae: 24250.2695\n",
            "Epoch 22/150\n",
            "37/37 [==============================] - 0s 3ms/step - loss: 1610214144.0000 - mae: 24608.5449 - val_loss: 1288137600.0000 - val_mae: 23860.1719\n",
            "Epoch 23/150\n",
            "37/37 [==============================] - 0s 3ms/step - loss: 1575596928.0000 - mae: 24433.7559 - val_loss: 1252116736.0000 - val_mae: 23656.0762\n",
            "Epoch 24/150\n",
            "37/37 [==============================] - 0s 3ms/step - loss: 1539174144.0000 - mae: 23978.8027 - val_loss: 1224169088.0000 - val_mae: 23451.0449\n",
            "Epoch 25/150\n",
            "37/37 [==============================] - 0s 4ms/step - loss: 1510584320.0000 - mae: 23778.7891 - val_loss: 1199660928.0000 - val_mae: 23175.7578\n",
            "Epoch 26/150\n",
            "37/37 [==============================] - 0s 3ms/step - loss: 1483812864.0000 - mae: 23462.9316 - val_loss: 1176597760.0000 - val_mae: 23001.2734\n",
            "Epoch 27/150\n",
            "37/37 [==============================] - 0s 3ms/step - loss: 1460034048.0000 - mae: 23205.1016 - val_loss: 1154950272.0000 - val_mae: 22892.1035\n",
            "Epoch 28/150\n",
            "37/37 [==============================] - 0s 3ms/step - loss: 1442784512.0000 - mae: 23173.0566 - val_loss: 1133372672.0000 - val_mae: 22687.0273\n",
            "Epoch 29/150\n",
            "37/37 [==============================] - 0s 3ms/step - loss: 1419163264.0000 - mae: 22748.4434 - val_loss: 1113389824.0000 - val_mae: 22509.2910\n",
            "Epoch 30/150\n",
            "37/37 [==============================] - 0s 3ms/step - loss: 1399933056.0000 - mae: 22481.3281 - val_loss: 1097807104.0000 - val_mae: 22336.1309\n",
            "Epoch 31/150\n",
            "37/37 [==============================] - 0s 3ms/step - loss: 1381536128.0000 - mae: 22390.8047 - val_loss: 1080737792.0000 - val_mae: 22172.4648\n",
            "Epoch 32/150\n",
            "37/37 [==============================] - 0s 3ms/step - loss: 1364323456.0000 - mae: 22208.5938 - val_loss: 1064815232.0000 - val_mae: 22010.6895\n",
            "Epoch 33/150\n",
            "37/37 [==============================] - 0s 3ms/step - loss: 1348937472.0000 - mae: 22026.2578 - val_loss: 1049970880.0000 - val_mae: 21848.1270\n",
            "Epoch 34/150\n",
            "37/37 [==============================] - 0s 4ms/step - loss: 1333352192.0000 - mae: 21762.6836 - val_loss: 1035169600.0000 - val_mae: 21742.4277\n",
            "Epoch 35/150\n",
            "37/37 [==============================] - 0s 3ms/step - loss: 1320943744.0000 - mae: 21560.1113 - val_loss: 1021230400.0000 - val_mae: 21535.9395\n",
            "Epoch 36/150\n",
            "37/37 [==============================] - 0s 3ms/step - loss: 1310030592.0000 - mae: 21714.0117 - val_loss: 1006250304.0000 - val_mae: 21470.2578\n",
            "Epoch 37/150\n",
            "37/37 [==============================] - 0s 3ms/step - loss: 1295283968.0000 - mae: 21194.6777 - val_loss: 993783552.0000 - val_mae: 21300.0664\n",
            "Epoch 38/150\n",
            "37/37 [==============================] - 0s 3ms/step - loss: 1279640960.0000 - mae: 21124.7207 - val_loss: 982679424.0000 - val_mae: 21164.2109\n",
            "Epoch 39/150\n",
            "37/37 [==============================] - 0s 3ms/step - loss: 1267276032.0000 - mae: 20999.0176 - val_loss: 971012992.0000 - val_mae: 20993.9531\n",
            "Epoch 40/150\n",
            "37/37 [==============================] - 0s 3ms/step - loss: 1255396352.0000 - mae: 20730.9785 - val_loss: 959488000.0000 - val_mae: 20849.5371\n",
            "Epoch 41/150\n",
            "37/37 [==============================] - 0s 3ms/step - loss: 1247173120.0000 - mae: 20730.8047 - val_loss: 946703680.0000 - val_mae: 20812.5488\n",
            "Epoch 42/150\n",
            "37/37 [==============================] - 0s 3ms/step - loss: 1237889280.0000 - mae: 20428.4180 - val_loss: 937970368.0000 - val_mae: 20668.7988\n",
            "Epoch 43/150\n",
            "37/37 [==============================] - 0s 3ms/step - loss: 1225112704.0000 - mae: 20422.2871 - val_loss: 929320320.0000 - val_mae: 20504.0000\n",
            "Epoch 44/150\n",
            "37/37 [==============================] - 0s 3ms/step - loss: 1213692160.0000 - mae: 20259.3926 - val_loss: 918321920.0000 - val_mae: 20452.5625\n",
            "Epoch 45/150\n",
            "37/37 [==============================] - 0s 3ms/step - loss: 1205354752.0000 - mae: 20109.7188 - val_loss: 909112896.0000 - val_mae: 20324.5020\n",
            "Epoch 46/150\n",
            "37/37 [==============================] - 0s 3ms/step - loss: 1195412992.0000 - mae: 20069.8613 - val_loss: 900654976.0000 - val_mae: 20224.6406\n",
            "Epoch 47/150\n",
            "37/37 [==============================] - 0s 3ms/step - loss: 1189761152.0000 - mae: 19982.3770 - val_loss: 892202752.0000 - val_mae: 20083.7578\n",
            "Epoch 48/150\n",
            "37/37 [==============================] - 0s 3ms/step - loss: 1179517440.0000 - mae: 19735.8809 - val_loss: 887398976.0000 - val_mae: 19936.3633\n",
            "Epoch 49/150\n",
            "37/37 [==============================] - 0s 3ms/step - loss: 1170620416.0000 - mae: 19606.6191 - val_loss: 877240576.0000 - val_mae: 19907.4395\n",
            "Epoch 50/150\n",
            "37/37 [==============================] - 0s 3ms/step - loss: 1163664640.0000 - mae: 19675.3359 - val_loss: 869057472.0000 - val_mae: 19833.9004\n",
            "Epoch 51/150\n",
            "37/37 [==============================] - 0s 3ms/step - loss: 1155117952.0000 - mae: 19388.6699 - val_loss: 860298688.0000 - val_mae: 19785.1465\n",
            "Epoch 52/150\n",
            "37/37 [==============================] - 0s 3ms/step - loss: 1148837760.0000 - mae: 19574.9297 - val_loss: 853961600.0000 - val_mae: 19688.5625\n",
            "Epoch 53/150\n",
            "37/37 [==============================] - 0s 3ms/step - loss: 1141033984.0000 - mae: 19384.6406 - val_loss: 845661376.0000 - val_mae: 19662.9082\n",
            "Epoch 54/150\n",
            "37/37 [==============================] - 0s 3ms/step - loss: 1135977344.0000 - mae: 19072.5234 - val_loss: 844642176.0000 - val_mae: 19402.0059\n",
            "Epoch 55/150\n",
            "37/37 [==============================] - 0s 3ms/step - loss: 1127899392.0000 - mae: 19284.5371 - val_loss: 833769856.0000 - val_mae: 19515.3652\n",
            "Epoch 56/150\n",
            "37/37 [==============================] - 0s 3ms/step - loss: 1117773184.0000 - mae: 19109.2930 - val_loss: 828509952.0000 - val_mae: 19367.3262\n",
            "Epoch 57/150\n",
            "37/37 [==============================] - 0s 3ms/step - loss: 1111086848.0000 - mae: 18868.2871 - val_loss: 824278272.0000 - val_mae: 19198.9746\n",
            "Epoch 58/150\n",
            "37/37 [==============================] - 0s 3ms/step - loss: 1104944640.0000 - mae: 18745.4531 - val_loss: 817147456.0000 - val_mae: 19155.2695\n",
            "Epoch 59/150\n",
            "37/37 [==============================] - 0s 3ms/step - loss: 1098612352.0000 - mae: 18818.7754 - val_loss: 812101632.0000 - val_mae: 19112.7129\n",
            "Epoch 60/150\n",
            "37/37 [==============================] - 0s 3ms/step - loss: 1093680384.0000 - mae: 18689.6582 - val_loss: 805930496.0000 - val_mae: 19062.4922\n",
            "Epoch 61/150\n",
            "37/37 [==============================] - 0s 3ms/step - loss: 1087421952.0000 - mae: 18642.6523 - val_loss: 800319936.0000 - val_mae: 19025.7559\n",
            "Epoch 62/150\n",
            "37/37 [==============================] - 0s 3ms/step - loss: 1080793984.0000 - mae: 18598.5762 - val_loss: 798254528.0000 - val_mae: 18837.1055\n",
            "Epoch 63/150\n",
            "37/37 [==============================] - 0s 3ms/step - loss: 1077033728.0000 - mae: 18409.9766 - val_loss: 792128512.0000 - val_mae: 18792.1270\n",
            "Epoch 64/150\n",
            "37/37 [==============================] - 0s 3ms/step - loss: 1073770240.0000 - mae: 18544.3027 - val_loss: 786949376.0000 - val_mae: 18744.0371\n",
            "Epoch 65/150\n",
            "37/37 [==============================] - 0s 4ms/step - loss: 1061748224.0000 - mae: 18294.1230 - val_loss: 783075328.0000 - val_mae: 18655.5449\n",
            "Epoch 66/150\n",
            "37/37 [==============================] - 0s 3ms/step - loss: 1060960576.0000 - mae: 18105.8379 - val_loss: 778015616.0000 - val_mae: 18600.9414\n",
            "Epoch 67/150\n",
            "37/37 [==============================] - 0s 3ms/step - loss: 1057889408.0000 - mae: 18202.1152 - val_loss: 774542016.0000 - val_mae: 18525.2383\n",
            "Epoch 68/150\n",
            "37/37 [==============================] - 0s 4ms/step - loss: 1045675456.0000 - mae: 18093.9375 - val_loss: 769534400.0000 - val_mae: 18530.1191\n",
            "Epoch 69/150\n",
            "37/37 [==============================] - 0s 3ms/step - loss: 1042987392.0000 - mae: 18180.8594 - val_loss: 763682368.0000 - val_mae: 18494.4688\n",
            "Epoch 70/150\n",
            "37/37 [==============================] - 0s 3ms/step - loss: 1035780480.0000 - mae: 17970.5586 - val_loss: 762930944.0000 - val_mae: 18340.6914\n",
            "Epoch 71/150\n",
            "37/37 [==============================] - 0s 3ms/step - loss: 1034395968.0000 - mae: 17945.4180 - val_loss: 757008896.0000 - val_mae: 18341.2031\n",
            "Epoch 72/150\n",
            "37/37 [==============================] - 0s 3ms/step - loss: 1028398016.0000 - mae: 17812.5781 - val_loss: 755306240.0000 - val_mae: 18223.3066\n",
            "Epoch 73/150\n",
            "37/37 [==============================] - 0s 3ms/step - loss: 1031860352.0000 - mae: 17839.6719 - val_loss: 751435648.0000 - val_mae: 18176.8457\n",
            "Epoch 74/150\n",
            "37/37 [==============================] - 0s 3ms/step - loss: 1020685056.0000 - mae: 17559.2129 - val_loss: 747293120.0000 - val_mae: 18138.0352\n",
            "Epoch 75/150\n",
            "37/37 [==============================] - 0s 3ms/step - loss: 1020534016.0000 - mae: 17795.0918 - val_loss: 742824128.0000 - val_mae: 18103.5840\n",
            "Epoch 76/150\n",
            "37/37 [==============================] - 0s 3ms/step - loss: 1011600576.0000 - mae: 17738.2949 - val_loss: 739483264.0000 - val_mae: 18097.1875\n",
            "Epoch 77/150\n",
            "37/37 [==============================] - 0s 3ms/step - loss: 1004550720.0000 - mae: 17580.5820 - val_loss: 735395008.0000 - val_mae: 18017.3340\n",
            "Epoch 78/150\n",
            "37/37 [==============================] - 0s 3ms/step - loss: 1002641728.0000 - mae: 17457.8398 - val_loss: 733897984.0000 - val_mae: 17962.4648\n",
            "Epoch 79/150\n",
            "37/37 [==============================] - 0s 3ms/step - loss: 1000771648.0000 - mae: 17379.5586 - val_loss: 730707776.0000 - val_mae: 17883.1113\n",
            "Epoch 80/150\n",
            "37/37 [==============================] - 0s 3ms/step - loss: 993248256.0000 - mae: 17496.2988 - val_loss: 726111808.0000 - val_mae: 17889.7891\n",
            "Epoch 81/150\n",
            "37/37 [==============================] - 0s 3ms/step - loss: 987912704.0000 - mae: 17274.0840 - val_loss: 724952000.0000 - val_mae: 17765.8438\n",
            "Epoch 82/150\n",
            "37/37 [==============================] - 0s 4ms/step - loss: 985935936.0000 - mae: 17307.6465 - val_loss: 722252416.0000 - val_mae: 17719.4570\n",
            "Epoch 83/150\n",
            "37/37 [==============================] - 0s 3ms/step - loss: 982013184.0000 - mae: 17230.0020 - val_loss: 718108672.0000 - val_mae: 17730.5215\n",
            "Epoch 84/150\n",
            "37/37 [==============================] - 0s 3ms/step - loss: 984285120.0000 - mae: 17052.1016 - val_loss: 717923776.0000 - val_mae: 17606.2637\n",
            "Epoch 85/150\n",
            "37/37 [==============================] - 0s 3ms/step - loss: 971379840.0000 - mae: 17173.6172 - val_loss: 714592256.0000 - val_mae: 17661.3672\n",
            "Epoch 86/150\n",
            "37/37 [==============================] - 0s 3ms/step - loss: 970321728.0000 - mae: 17076.0488 - val_loss: 711858048.0000 - val_mae: 17558.7246\n",
            "Epoch 87/150\n",
            "37/37 [==============================] - 0s 3ms/step - loss: 975758144.0000 - mae: 17323.7754 - val_loss: 708429440.0000 - val_mae: 17556.9531\n",
            "Epoch 88/150\n",
            "37/37 [==============================] - 0s 3ms/step - loss: 961007744.0000 - mae: 16877.8848 - val_loss: 706652224.0000 - val_mae: 17487.5352\n",
            "Epoch 89/150\n",
            "37/37 [==============================] - 0s 3ms/step - loss: 955687872.0000 - mae: 16915.8086 - val_loss: 704198272.0000 - val_mae: 17517.8223\n",
            "Epoch 90/150\n",
            "37/37 [==============================] - 0s 3ms/step - loss: 953480768.0000 - mae: 16851.7734 - val_loss: 702290304.0000 - val_mae: 17428.3340\n",
            "Epoch 91/150\n",
            "37/37 [==============================] - 0s 3ms/step - loss: 954237312.0000 - mae: 16972.7461 - val_loss: 697875392.0000 - val_mae: 17427.9453\n",
            "Epoch 92/150\n",
            "37/37 [==============================] - 0s 3ms/step - loss: 947463104.0000 - mae: 16683.1699 - val_loss: 697487104.0000 - val_mae: 17351.0117\n",
            "Epoch 93/150\n",
            "37/37 [==============================] - 0s 3ms/step - loss: 945463232.0000 - mae: 16644.0684 - val_loss: 695305472.0000 - val_mae: 17327.6738\n",
            "Epoch 94/150\n",
            "37/37 [==============================] - 0s 3ms/step - loss: 937265344.0000 - mae: 16713.3125 - val_loss: 692606272.0000 - val_mae: 17330.1289\n",
            "Epoch 95/150\n",
            "37/37 [==============================] - 0s 3ms/step - loss: 936379648.0000 - mae: 16715.8359 - val_loss: 689161728.0000 - val_mae: 17299.6484\n",
            "Epoch 96/150\n",
            "37/37 [==============================] - 0s 3ms/step - loss: 933583872.0000 - mae: 16663.4961 - val_loss: 686108992.0000 - val_mae: 17357.6465\n",
            "Epoch 97/150\n",
            "37/37 [==============================] - 0s 3ms/step - loss: 937132864.0000 - mae: 16580.3926 - val_loss: 685174784.0000 - val_mae: 17242.2520\n",
            "Epoch 98/150\n",
            "37/37 [==============================] - 0s 3ms/step - loss: 929014272.0000 - mae: 16457.7539 - val_loss: 684110080.0000 - val_mae: 17174.1758\n",
            "Epoch 99/150\n",
            "37/37 [==============================] - 0s 3ms/step - loss: 922052992.0000 - mae: 16482.3984 - val_loss: 682819712.0000 - val_mae: 17157.2812\n",
            "Epoch 100/150\n",
            "37/37 [==============================] - 0s 3ms/step - loss: 918121152.0000 - mae: 16344.8652 - val_loss: 681221568.0000 - val_mae: 17131.6309\n",
            "Epoch 101/150\n",
            "37/37 [==============================] - 0s 3ms/step - loss: 917462592.0000 - mae: 16549.7578 - val_loss: 677474496.0000 - val_mae: 17147.5488\n",
            "Epoch 102/150\n",
            "37/37 [==============================] - 0s 3ms/step - loss: 911295872.0000 - mae: 16325.8730 - val_loss: 676037440.0000 - val_mae: 17083.1602\n",
            "Epoch 103/150\n",
            "37/37 [==============================] - 0s 3ms/step - loss: 911023424.0000 - mae: 16291.1553 - val_loss: 674338368.0000 - val_mae: 17047.7539\n",
            "Epoch 104/150\n",
            "37/37 [==============================] - 0s 3ms/step - loss: 905371392.0000 - mae: 16328.2588 - val_loss: 670916416.0000 - val_mae: 17051.6504\n",
            "Epoch 105/150\n",
            "37/37 [==============================] - 0s 3ms/step - loss: 903079424.0000 - mae: 16161.8916 - val_loss: 669483968.0000 - val_mae: 16976.6582\n",
            "Epoch 106/150\n",
            "37/37 [==============================] - 0s 4ms/step - loss: 907895616.0000 - mae: 16210.2480 - val_loss: 667810240.0000 - val_mae: 16938.3867\n",
            "Epoch 107/150\n",
            "37/37 [==============================] - 0s 3ms/step - loss: 892052864.0000 - mae: 16220.1426 - val_loss: 666087424.0000 - val_mae: 17020.0391\n",
            "Epoch 108/150\n",
            "37/37 [==============================] - 0s 4ms/step - loss: 892229312.0000 - mae: 16220.6855 - val_loss: 661459776.0000 - val_mae: 16966.5020\n",
            "Epoch 109/150\n",
            "37/37 [==============================] - 0s 3ms/step - loss: 885459328.0000 - mae: 16012.4697 - val_loss: 663924160.0000 - val_mae: 16856.4922\n",
            "Epoch 110/150\n",
            "37/37 [==============================] - 0s 3ms/step - loss: 883585984.0000 - mae: 15939.7412 - val_loss: 662335552.0000 - val_mae: 16844.5996\n",
            "Epoch 111/150\n",
            "37/37 [==============================] - 0s 3ms/step - loss: 881402176.0000 - mae: 15980.8789 - val_loss: 659052096.0000 - val_mae: 16837.5039\n",
            "Epoch 112/150\n",
            "37/37 [==============================] - 0s 3ms/step - loss: 877562688.0000 - mae: 15935.5703 - val_loss: 657354688.0000 - val_mae: 16823.6602\n",
            "Epoch 113/150\n",
            "37/37 [==============================] - 0s 3ms/step - loss: 878209920.0000 - mae: 15850.5742 - val_loss: 655469888.0000 - val_mae: 16787.9375\n",
            "Epoch 114/150\n",
            "37/37 [==============================] - 0s 4ms/step - loss: 873599680.0000 - mae: 15865.7139 - val_loss: 653184832.0000 - val_mae: 16790.8047\n",
            "Epoch 115/150\n",
            "37/37 [==============================] - 0s 3ms/step - loss: 868989120.0000 - mae: 15732.5088 - val_loss: 653260544.0000 - val_mae: 16794.8125\n",
            "Epoch 116/150\n",
            "37/37 [==============================] - 0s 3ms/step - loss: 865019136.0000 - mae: 15756.8926 - val_loss: 651272576.0000 - val_mae: 16799.3359\n",
            "Epoch 117/150\n",
            "37/37 [==============================] - 0s 3ms/step - loss: 863136640.0000 - mae: 15714.3838 - val_loss: 648031424.0000 - val_mae: 16760.4648\n",
            "Epoch 118/150\n",
            "37/37 [==============================] - 0s 3ms/step - loss: 863828800.0000 - mae: 15793.0059 - val_loss: 647239488.0000 - val_mae: 16756.3535\n",
            "Epoch 119/150\n",
            "37/37 [==============================] - 0s 3ms/step - loss: 856193728.0000 - mae: 15592.7676 - val_loss: 647159424.0000 - val_mae: 16684.7695\n",
            "Epoch 120/150\n",
            "37/37 [==============================] - 0s 3ms/step - loss: 858748608.0000 - mae: 15581.6074 - val_loss: 646179712.0000 - val_mae: 16703.6953\n",
            "Epoch 121/150\n",
            "37/37 [==============================] - 0s 3ms/step - loss: 852329600.0000 - mae: 15560.9824 - val_loss: 644687872.0000 - val_mae: 16666.5879\n",
            "Epoch 122/150\n",
            "37/37 [==============================] - 0s 3ms/step - loss: 850443584.0000 - mae: 15561.9277 - val_loss: 643686720.0000 - val_mae: 16679.0039\n",
            "Epoch 123/150\n",
            "37/37 [==============================] - 0s 3ms/step - loss: 846147584.0000 - mae: 15497.5186 - val_loss: 642538880.0000 - val_mae: 16681.3281\n",
            "Epoch 124/150\n",
            "37/37 [==============================] - 0s 3ms/step - loss: 845452992.0000 - mae: 15589.5098 - val_loss: 640835584.0000 - val_mae: 16676.6504\n",
            "Epoch 125/150\n",
            "37/37 [==============================] - 0s 3ms/step - loss: 843113088.0000 - mae: 15467.8564 - val_loss: 639776576.0000 - val_mae: 16685.7461\n",
            "Epoch 126/150\n",
            "37/37 [==============================] - 0s 3ms/step - loss: 839451776.0000 - mae: 15379.3506 - val_loss: 639361664.0000 - val_mae: 16647.3672\n",
            "Epoch 127/150\n",
            "37/37 [==============================] - 0s 3ms/step - loss: 841528384.0000 - mae: 15484.5586 - val_loss: 638939456.0000 - val_mae: 16663.1348\n",
            "Epoch 128/150\n",
            "37/37 [==============================] - 0s 3ms/step - loss: 838547648.0000 - mae: 15415.1377 - val_loss: 637473280.0000 - val_mae: 16656.0664\n",
            "Epoch 129/150\n",
            "37/37 [==============================] - 0s 4ms/step - loss: 833695808.0000 - mae: 15251.4277 - val_loss: 638257088.0000 - val_mae: 16680.1426\n",
            "Epoch 130/150\n",
            "37/37 [==============================] - 0s 3ms/step - loss: 831234880.0000 - mae: 15413.6484 - val_loss: 636313088.0000 - val_mae: 16673.9824\n",
            "Epoch 131/150\n",
            "37/37 [==============================] - 0s 3ms/step - loss: 828949248.0000 - mae: 15325.5908 - val_loss: 634957056.0000 - val_mae: 16667.3945\n",
            "Epoch 132/150\n",
            "37/37 [==============================] - 0s 3ms/step - loss: 827282752.0000 - mae: 15304.1592 - val_loss: 635543936.0000 - val_mae: 16695.2207\n",
            "Epoch 133/150\n",
            "37/37 [==============================] - 0s 3ms/step - loss: 824111296.0000 - mae: 15277.8936 - val_loss: 634571648.0000 - val_mae: 16678.8477\n",
            "Epoch 134/150\n",
            "37/37 [==============================] - 0s 3ms/step - loss: 822048128.0000 - mae: 15228.3379 - val_loss: 633357056.0000 - val_mae: 16660.1387\n",
            "Epoch 135/150\n",
            "37/37 [==============================] - 0s 3ms/step - loss: 821124288.0000 - mae: 15207.4395 - val_loss: 634131520.0000 - val_mae: 16693.1328\n",
            "Epoch 136/150\n",
            "37/37 [==============================] - 0s 3ms/step - loss: 818507072.0000 - mae: 15202.6973 - val_loss: 633243776.0000 - val_mae: 16676.2246\n",
            "Epoch 137/150\n",
            "37/37 [==============================] - 0s 3ms/step - loss: 816235968.0000 - mae: 15206.7168 - val_loss: 633957952.0000 - val_mae: 16735.1797\n",
            "Epoch 138/150\n",
            "37/37 [==============================] - 0s 3ms/step - loss: 815075904.0000 - mae: 15205.8867 - val_loss: 633982080.0000 - val_mae: 16727.6758\n",
            "Epoch 139/150\n",
            "37/37 [==============================] - 0s 3ms/step - loss: 814530624.0000 - mae: 15151.3555 - val_loss: 632220288.0000 - val_mae: 16731.4570\n",
            "Epoch 140/150\n",
            "37/37 [==============================] - 0s 3ms/step - loss: 815811328.0000 - mae: 15134.3994 - val_loss: 631891200.0000 - val_mae: 16678.7402\n",
            "Epoch 141/150\n",
            "37/37 [==============================] - 0s 3ms/step - loss: 806097792.0000 - mae: 15062.6084 - val_loss: 634513536.0000 - val_mae: 16769.2852\n",
            "Epoch 142/150\n",
            "37/37 [==============================] - 0s 3ms/step - loss: 808424192.0000 - mae: 15139.1211 - val_loss: 631131712.0000 - val_mae: 16697.0527\n",
            "Epoch 143/150\n",
            "37/37 [==============================] - 0s 3ms/step - loss: 803470400.0000 - mae: 15124.2178 - val_loss: 630304256.0000 - val_mae: 16712.0215\n",
            "Epoch 144/150\n",
            "37/37 [==============================] - 0s 3ms/step - loss: 803183040.0000 - mae: 15068.6973 - val_loss: 630873152.0000 - val_mae: 16711.8809\n",
            "Epoch 145/150\n",
            "37/37 [==============================] - 0s 3ms/step - loss: 804907776.0000 - mae: 15144.3604 - val_loss: 629219392.0000 - val_mae: 16697.8047\n",
            "Epoch 146/150\n",
            "37/37 [==============================] - 0s 3ms/step - loss: 800492800.0000 - mae: 15022.5156 - val_loss: 628346496.0000 - val_mae: 16674.8027\n",
            "Epoch 147/150\n",
            "37/37 [==============================] - 0s 3ms/step - loss: 802566912.0000 - mae: 15093.5625 - val_loss: 628863808.0000 - val_mae: 16702.9355\n",
            "Epoch 148/150\n",
            "37/37 [==============================] - 0s 3ms/step - loss: 800448768.0000 - mae: 15055.1055 - val_loss: 630710144.0000 - val_mae: 16745.1719\n",
            "Epoch 149/150\n",
            "37/37 [==============================] - 0s 3ms/step - loss: 793570176.0000 - mae: 14986.1133 - val_loss: 628550976.0000 - val_mae: 16674.2051\n",
            "Epoch 150/150\n",
            "37/37 [==============================] - 0s 3ms/step - loss: 794661824.0000 - mae: 14957.6611 - val_loss: 628617472.0000 - val_mae: 16707.1562\n"
          ]
        },
        {
          "data": {
            "text/plain": [
              "<keras.callbacks.History at 0x7fbeb67aeb50>"
            ]
          },
          "execution_count": 45,
          "metadata": {},
          "output_type": "execute_result"
        }
      ],
      "source": [
        "model.fit(t_x_train, t_y_train, validation_data=(t_x_test,t_y_test), epochs=150, batch_size=32)"
      ]
    },
    {
      "cell_type": "code",
      "execution_count": 46,
      "metadata": {
        "id": "2GfAtd2XYd81"
      },
      "outputs": [],
      "source": [
        "prediction = model.predict(t_x_test)"
      ]
    },
    {
      "cell_type": "code",
      "execution_count": 47,
      "metadata": {
        "colab": {
          "base_uri": "https://localhost:8080/"
        },
        "id": "qkGqSVf9YwMM",
        "outputId": "5b342a49-6fec-4d36-a1b9-e1ecf862cc17"
      },
      "outputs": [
        {
          "name": "stdout",
          "output_type": "stream",
          "text": [
            "RMSE score : 25072.246617519893\n"
          ]
        }
      ],
      "source": [
        "print(\"RMSE score : {}\".format(mean_squared_error(t_y_test, prediction, squared=False)))"
      ]
    },
    {
      "cell_type": "code",
      "execution_count": 48,
      "metadata": {
        "id": "Y3L61q3oZGEy"
      },
      "outputs": [],
      "source": [
        "kaggle_test_X = pd.read_csv('/content/drive/MyDrive/VNP proekt/out/kaggle_test_X.csv', index_col='Id')\n",
        "\n",
        "pred = model.predict(kaggle_test_X)\n",
        "pred = np.reshape(pred, (pred.shape[0]))\n",
        "\n",
        "out = pd.DataFrame(\n",
        "    {\n",
        "        'Id': kaggle_test_X.index,\n",
        "        'SalePrice': pred\n",
        "    }\n",
        ")\n",
        "\n",
        "out.to_csv('/content/drive/MyDrive/VNP proekt/out/submission.csv', index=None)"
      ]
    },
    {
      "cell_type": "code",
      "execution_count": 49,
      "metadata": {
        "colab": {
          "base_uri": "https://localhost:8080/"
        },
        "id": "Yrloh1IiZcv6",
        "outputId": "cbafa8e8-72e6-431d-932c-2b01d0ac356e"
      },
      "outputs": [
        {
          "name": "stdout",
          "output_type": "stream",
          "text": [
            "Score: 0.14706\n"
          ]
        }
      ],
      "source": [
        "print(\"Score: 0.14706\")"
      ]
    }
  ],
  "metadata": {
    "colab": {
      "name": "Models2_Ana.ipynb",
      "provenance": []
    },
    "kernelspec": {
      "display_name": "Python 3",
      "name": "python3"
    },
    "language_info": {
      "name": "python"
    }
  },
  "nbformat": 4,
  "nbformat_minor": 0
}
